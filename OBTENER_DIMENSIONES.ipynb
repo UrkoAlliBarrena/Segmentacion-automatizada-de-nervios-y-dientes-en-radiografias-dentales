{
 "cells": [
  {
   "cell_type": "code",
   "execution_count": 1,
   "id": "73ae6fba",
   "metadata": {},
   "outputs": [],
   "source": [
    "# https://imageio.readthedocs.io/en/stable/examples.html\n",
    "\n",
    "import os\n",
    "import imageio.v2 as iio\n",
    "\n",
    "ruta = \"Radiografias-ESTUDIO LONGITUD DE TRABAJO-IA\"\n",
    "salida = \"dimensiones.txt\"\n",
    "numero_carpeta=0\n",
    "with open(salida, 'w') as archivo:\n",
    "    for subcarpeta in os.listdir(ruta):\n",
    "        ruta_subcarpeta = os.path.join(ruta, subcarpeta)\n",
    "        if os.path.isdir(ruta_subcarpeta):\n",
    "            for nombre_archivo in os.listdir(ruta_subcarpeta):\n",
    "                if nombre_archivo.lower().endswith(('.jpg', 'png')):\n",
    "                    ruta_imagen = os.path.join(ruta_subcarpeta, nombre_archivo)\n",
    "                    imagen = iio.imread(ruta_imagen)\n",
    "                    alto, ancho = imagen.shape[:2]\n",
    "                    archivo.write(f\"{subcarpeta}: {ancho}px x {alto}px\\n\")\n",
    "            archivo.write(\"\\n\")\n",
    "        numero_carpeta+=1\n",
    "    archivo.write(f\"Número total de carpetas: {numero_carpeta}\")"
   ]
  }
 ],
 "metadata": {
  "kernelspec": {
   "display_name": "Python 3 (ipykernel)",
   "language": "python",
   "name": "python3"
  },
  "language_info": {
   "codemirror_mode": {
    "name": "ipython",
    "version": 3
   },
   "file_extension": ".py",
   "mimetype": "text/x-python",
   "name": "python",
   "nbconvert_exporter": "python",
   "pygments_lexer": "ipython3",
   "version": "3.11.4"
  }
 },
 "nbformat": 4,
 "nbformat_minor": 5
}
