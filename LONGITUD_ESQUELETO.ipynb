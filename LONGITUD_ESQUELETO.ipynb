{
 "cells": [
  {
   "cell_type": "code",
   "execution_count": 23,
   "id": "a8db0b57-a095-4182-b50a-97a5496c0f44",
   "metadata": {},
   "outputs": [
    {
     "name": "stdout",
     "output_type": "stream",
     "text": [
      "Longitud física total del esqueleto: 21.8822 mm\n"
     ]
    }
   ],
   "source": [
    "import numpy as np\n",
    "from PIL import Image\n",
    "import math\n",
    "\n",
    "anchura = 0.0258\n",
    "altura = 0.0256\n",
    "diagonal = math.sqrt(anchura**2 + altura**2)\n",
    "\n",
    "img = Image.open(\"R4_longitud.png\").convert(\"L\")\n",
    "skeleton = (np.array(img) > 0).astype(np.uint8)\n",
    "\n",
    "coordenadas_y, coordenadas_x = np.where(skeleton == 1)\n",
    "coordenadas = list(zip(coordenadas_y, coordenadas_x))\n",
    "longitud = 0.0256\n",
    "\n",
    "for indice_coordenada in range(1, len(coordenadas)):\n",
    "    coordenada_y_anterior, coordenada_x_anterior = coordenadas[indice_coordenada-1]\n",
    "    coordenada_y_actual, coordenada_x_actual = coordenadas[indice_coordenada]\n",
    "    distancia_y, distancia_x = abs(coordenada_y_actual - coordenada_y_anterior), abs(coordenada_x_actual - coordenada_x_anterior)\n",
    "    if distancia_x == 1 and distancia_y == 1:\n",
    "        longitud += diagonal\n",
    "    elif distancia_x == 1 and distancia_y == 0:\n",
    "        longitud += anchura\n",
    "    elif distancia_x == 0 and distancia_y == 1:\n",
    "        longitud += altura\n",
    "\n",
    "# Sólamente contando píxeles blancos = 21.3248 mm\n",
    "print(f\"Longitud: {longitud:.4f} mm\")\n"
   ]
  }
 ],
 "metadata": {
  "kernelspec": {
   "display_name": "Python 3 (ipykernel)",
   "language": "python",
   "name": "python3"
  },
  "language_info": {
   "codemirror_mode": {
    "name": "ipython",
    "version": 3
   },
   "file_extension": ".py",
   "mimetype": "text/x-python",
   "name": "python",
   "nbconvert_exporter": "python",
   "pygments_lexer": "ipython3",
   "version": "3.11.11"
  }
 },
 "nbformat": 4,
 "nbformat_minor": 5
}
